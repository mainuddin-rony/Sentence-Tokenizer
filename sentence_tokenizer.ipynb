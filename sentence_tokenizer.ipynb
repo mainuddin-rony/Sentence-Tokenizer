{
 "cells": [
  {
   "cell_type": "code",
   "execution_count": 44,
   "metadata": {},
   "outputs": [],
   "source": [
    "from nltk.tokenize import sent_tokenize\n",
    "import re"
   ]
  },
  {
   "cell_type": "markdown",
   "metadata": {},
   "source": [
    "Sample Input from Assignment File"
   ]
  },
  {
   "cell_type": "code",
   "execution_count": 46,
   "metadata": {},
   "outputs": [],
   "source": [
    "text = \"It also means that we've got to make sure that young people like yourself are able to afford a college education. Earlier, Governor Romney talked about—he wants to make Pell grants and other education accessible for young people. Well, the truth of the matter is, is that that's exactly what we've done. We've expanded Pell grants for millions of people, including millions of young women all across the country. We did it by taking $60 billion that was going to banks and lenders as middlemen for the student loan program, and we said, let's just cut out the middleman. Let's give the money directly to students. And as a consequence, we've seen millions of young people be able to afford college, and that's going to make sure that young women are going to be able to compete in that marketplace.\""
   ]
  },
  {
   "cell_type": "code",
   "execution_count": 47,
   "metadata": {},
   "outputs": [],
   "source": [
    "sentences = re.split(r'(?<!\\w\\.\\w.)(?<![A-Z][a-z]\\.)(?<=\\.|\\?)\\s', text) ## Using regex for splitting"
   ]
  },
  {
   "cell_type": "markdown",
   "metadata": {},
   "source": [
    "Printing the result"
   ]
  },
  {
   "cell_type": "code",
   "execution_count": 48,
   "metadata": {},
   "outputs": [
    {
     "name": "stdout",
     "output_type": "stream",
     "text": [
      "1. It also means that we've got to make sure that young people like yourself are able to afford a college education.\n",
      "2. Earlier, Governor Romney talked about—he wants to make Pell grants and other education accessible for young people.\n",
      "3. Well, the truth of the matter is, is that that's exactly what we've done.\n",
      "4. We've expanded Pell grants for millions of people, including millions of young women all across the country.\n",
      "5. We did it by taking $60 billion that was going to banks and lenders as middlemen for the student loan program, and we said, let's just cut out the middleman.\n",
      "6. Let's give the money directly to students.\n",
      "7. And as a consequence, we've seen millions of young people be able to afford college, and that's going to make sure that young women are going to be able to compete in that marketplace.\n"
     ]
    }
   ],
   "source": [
    "i = 1\n",
    "for sent in sentences:\n",
    "    print(str(i) + \". \" + sent)\n",
    "    i += 1"
   ]
  },
  {
   "cell_type": "markdown",
   "metadata": {},
   "source": [
    "Read Input.txt"
   ]
  },
  {
   "cell_type": "code",
   "execution_count": 49,
   "metadata": {},
   "outputs": [],
   "source": [
    "with open('input.txt', 'r') as myfile:\n",
    "    data = myfile.read()"
   ]
  },
  {
   "cell_type": "code",
   "execution_count": 50,
   "metadata": {},
   "outputs": [],
   "source": [
    "data = data.replace('\\n', '') # Replace all newline characters"
   ]
  },
  {
   "cell_type": "markdown",
   "metadata": {},
   "source": [
    "Using NLTK to get the actual line"
   ]
  },
  {
   "cell_type": "code",
   "execution_count": 51,
   "metadata": {},
   "outputs": [],
   "source": [
    "sent_tokenize_list = sent_tokenize(data)"
   ]
  },
  {
   "cell_type": "code",
   "execution_count": 52,
   "metadata": {},
   "outputs": [
    {
     "data": {
      "text/plain": [
       "2123"
      ]
     },
     "execution_count": 52,
     "metadata": {},
     "output_type": "execute_result"
    }
   ],
   "source": [
    "len(sent_tokenize_list)"
   ]
  },
  {
   "cell_type": "markdown",
   "metadata": {},
   "source": [
    "Using the Regex"
   ]
  },
  {
   "cell_type": "code",
   "execution_count": 53,
   "metadata": {},
   "outputs": [],
   "source": [
    "sentences = re.split(r'(?<!\\w\\.\\w.)(?<![A-Z][a-z]\\.)(?<=\\.|\\?)\\s', data)"
   ]
  },
  {
   "cell_type": "code",
   "execution_count": 54,
   "metadata": {},
   "outputs": [
    {
     "data": {
      "text/plain": [
       "2114"
      ]
     },
     "execution_count": 54,
     "metadata": {},
     "output_type": "execute_result"
    }
   ],
   "source": [
    "len(sentences)"
   ]
  },
  {
   "cell_type": "markdown",
   "metadata": {},
   "source": [
    "Output Generation"
   ]
  },
  {
   "cell_type": "code",
   "execution_count": 55,
   "metadata": {},
   "outputs": [],
   "source": [
    "with open(\"output.txt\", \"w\") as fout:\n",
    "    i = 1\n",
    "    for sent in sentences:\n",
    "        fout.write(str(i) + \". \" + sent + \"\\n\")\n",
    "        i += 1\n",
    "fout.close()"
   ]
  }
 ],
 "metadata": {
  "kernelspec": {
   "display_name": "Python 3",
   "language": "python",
   "name": "python3"
  },
  "language_info": {
   "codemirror_mode": {
    "name": "ipython",
    "version": 3
   },
   "file_extension": ".py",
   "mimetype": "text/x-python",
   "name": "python",
   "nbconvert_exporter": "python",
   "pygments_lexer": "ipython3",
   "version": "3.6.4"
  }
 },
 "nbformat": 4,
 "nbformat_minor": 2
}
